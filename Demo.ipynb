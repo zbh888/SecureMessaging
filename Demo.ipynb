{
 "cells": [
  {
   "cell_type": "code",
   "execution_count": 1,
   "metadata": {},
   "outputs": [],
   "source": [
    "from Server import *\n",
    "from SharePassword import *\n",
    "from DigitalSignature import *\n",
    "from PKAuthenticatedEnc import *\n",
    "from HybridEncryption import *\n",
    "from ForwardSecrecy import *"
   ]
  },
  {
   "cell_type": "markdown",
   "metadata": {},
   "source": [
    "# Setup"
   ]
  },
  {
   "cell_type": "code",
   "execution_count": 2,
   "metadata": {},
   "outputs": [
    {
     "data": {
      "text/plain": [
       "(True,\n",
       " [{'id': 0, 'from': 'Bohan', 'message': 'MTIzNA=='},\n",
       "  {'id': 1, 'from': 'Bohan', 'message': '1234'}])"
      ]
     },
     "execution_count": 2,
     "metadata": {},
     "output_type": "execute_result"
    }
   ],
   "source": [
    "server = Server()\n",
    "# Bohan send message to Alice\n",
    "SKB, PKB = GenKeyPair()\n",
    "SKA, PKA = GenKeyPair()\n",
    "\n",
    "preSKB, prePKB = GenPreKey(SKB)\n",
    "preSKA, prePKA = GenPreKey(SKA)\n",
    "\n",
    "boolean, tokenB = server.signup(\"Bohan\", PKB, PKB)\n",
    "boolean, tokenA = server.signup(\"Alice\", PKA, PKB)\n",
    "\n",
    "payload = {'api_token': tokenB,\n",
    "           'to': 'Alice',\n",
    "           'message': 'MTIzNA=='}\n",
    "server.send(payload)\n",
    "payload = {'api_token': tokenB,\n",
    "           'to': 'Alice',\n",
    "           'message': '1234'}\n",
    "\n",
    "server.send(payload)\n",
    "payload = {'api_token': tokenA}\n",
    "server.receive(payload)"
   ]
  },
  {
   "cell_type": "markdown",
   "metadata": {},
   "source": [
    "# 1. Pre-shared Password method"
   ]
  },
  {
   "cell_type": "markdown",
   "metadata": {},
   "source": [
    "Password is secretly shared. All other parameters are in public."
   ]
  },
  {
   "cell_type": "code",
   "execution_count": 3,
   "metadata": {},
   "outputs": [
    {
     "data": {
      "text/plain": [
       "'1234'"
      ]
     },
     "execution_count": 3,
     "metadata": {},
     "output_type": "execute_result"
    }
   ],
   "source": [
    "oplimit = 524288\n",
    "key_length = 32\n",
    "memlimit = 16777216\n",
    "salt = b\"\\x16\\xb5\\xaf\\xcf\\xf4\\x61\\xc7\\x5c\\x09\\xb3\\xe3\\xe8\\x16\\xc9\\x0d\\x33\\x05\\xb6\\x47\\x53\\xb3\\xa2\\xb0\\xc5\\x94\\x1a\\xd0\\x95\\xf2\\x80\\xbc\\xfe\"\n",
    "\n",
    "cipher = EncryptSP(\"1234\", \"direct behavior\", salt, oplimit, memlimit, key_length)\n",
    "DecryptSP(cipher, \"direct behavior\", salt, oplimit, memlimit, key_length)"
   ]
  },
  {
   "cell_type": "markdown",
   "metadata": {},
   "source": [
    "# 2. Sign with Digital Signature"
   ]
  },
  {
   "cell_type": "code",
   "execution_count": 4,
   "metadata": {},
   "outputs": [
    {
     "data": {
      "text/plain": [
       "(True, 'Hello')"
      ]
     },
     "execution_count": 4,
     "metadata": {},
     "output_type": "execute_result"
    }
   ],
   "source": [
    "SK, PK = GenKeyPair()\n",
    "signature = Sign('Hello', SK)\n",
    "Verify(signature, PK)"
   ]
  },
  {
   "cell_type": "markdown",
   "metadata": {},
   "source": [
    "# 3. Public-Key Authenticated Encryption"
   ]
  },
  {
   "cell_type": "markdown",
   "metadata": {},
   "source": [
    "This will be End2End Encryption and Decryption scheme using Public Key"
   ]
  },
  {
   "cell_type": "code",
   "execution_count": 5,
   "metadata": {},
   "outputs": [
    {
     "data": {
      "text/plain": [
       "'Hello'"
      ]
     },
     "execution_count": 5,
     "metadata": {},
     "output_type": "execute_result"
    }
   ],
   "source": [
    "FingerPrint(PK)\n",
    "SKA, PKA = GenKeyPairAE()\n",
    "SKB, PKB = GenKeyPairAE()\n",
    "cipher = EncryptAE('Hello', SKA, PKB)\n",
    "DecryptAE(cipher, SKB, PKA)"
   ]
  },
  {
   "cell_type": "markdown",
   "metadata": {},
   "source": [
    "# 4. Hybrid Encryption - Government Surveillance"
   ]
  },
  {
   "cell_type": "markdown",
   "metadata": {},
   "source": [
    "Government will have a keyPair used for encryption and decryption"
   ]
  },
  {
   "cell_type": "code",
   "execution_count": 6,
   "metadata": {},
   "outputs": [
    {
     "data": {
      "text/plain": [
       "'Hello'"
      ]
     },
     "execution_count": 6,
     "metadata": {},
     "output_type": "execute_result"
    }
   ],
   "source": [
    "SK1, PK1 = GenKeyPairAE()\n",
    "SK2, PK2 = GenKeyPairAE()\n",
    "SKgov, PKgov = GenKeyPairAE()\n",
    "cipher = EncryptHybrid(\"Hello\", SK1, PK2, PKgov)\n",
    "DecryptHybridReceive(cipher, SK2, PK1)\n",
    "DecryptHybridGov(cipher, SKgov, PK1)"
   ]
  },
  {
   "cell_type": "markdown",
   "metadata": {},
   "source": [
    "# 5. Perfect Forward Secrecy"
   ]
  },
  {
   "cell_type": "code",
   "execution_count": 7,
   "metadata": {},
   "outputs": [
    {
     "data": {
      "text/plain": [
       "'Hello'"
      ]
     },
     "execution_count": 7,
     "metadata": {},
     "output_type": "execute_result"
    }
   ],
   "source": [
    "SK1, PK1 = GenKeyPair()\n",
    "SK2, PK2 = GenKeyPair()\n",
    "\n",
    "preSK1, prePK1 = GenPreKey(SK1)\n",
    "preSK2, prePK2 = GenPreKey(SK2)\n",
    "\n",
    "cipher = EncryptFS('Hello', preSK1, PK2, prePK2)\n",
    "DecryptFS(cipher, preSK2, PK1, prePK1)"
   ]
  }
 ],
 "metadata": {
  "kernelspec": {
   "display_name": "Python 3",
   "language": "python",
   "name": "python3"
  },
  "language_info": {
   "codemirror_mode": {
    "name": "ipython",
    "version": 3
   },
   "file_extension": ".py",
   "mimetype": "text/x-python",
   "name": "python",
   "nbconvert_exporter": "python",
   "pygments_lexer": "ipython3",
   "version": "3.8.5"
  }
 },
 "nbformat": 4,
 "nbformat_minor": 4
}
